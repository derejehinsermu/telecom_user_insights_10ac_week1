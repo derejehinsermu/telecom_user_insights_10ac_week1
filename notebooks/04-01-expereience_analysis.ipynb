{
 "cells": [
  {
   "cell_type": "code",
   "execution_count": 1,
   "metadata": {},
   "outputs": [],
   "source": [
    "import pandas as pd\n",
    "import sys\n",
    "sys.path.append('../') \n",
    "import matplotlib.pyplot as plt\n",
    "import seaborn as sns\n",
    "\n",
    "# Import necessary functions\n",
    "from src.loader import load_data\n",
    "from src.clean import clean_data\n",
    "\n",
    "# Load data\n",
    "sql_query = '''\n",
    "    \n",
    " SELECT * FROM xdr_data\n",
    " '''\n",
    "\n",
    "df = load_data(sql_query)\n"
   ]
  },
  {
   "cell_type": "code",
   "execution_count": 2,
   "metadata": {},
   "outputs": [],
   "source": [
    "# apply the cleaning function\n",
    "df = clean_data(df)"
   ]
  },
  {
   "cell_type": "code",
   "execution_count": 4,
   "metadata": {},
   "outputs": [],
   "source": [
    "# Grouping by 'MSISDN/Number' and calculating mean for specified columns\n",
    "aggregated_data = df.groupby('MSISDN/Number').agg({\n",
    "    'TCP DL Retrans. Vol (Bytes)': 'mean',\n",
    "    'TCP UL Retrans. Vol (Bytes)': 'mean',\n",
    "    'Avg RTT DL (ms)': 'mean',\n",
    "    'Avg RTT UL (ms)': 'mean',\n",
    "    'Avg Bearer TP DL (kbps)': 'mean',\n",
    "    'Avg Bearer TP UL (kbps)': 'mean',\n",
    "    'Handset Type': lambda x: pd.Series.mode(x)[0]  # Most common handset type per user\n",
    "}).rename(columns={\n",
    "    'TCP DL Retrans. Vol (Bytes)': 'Average TCP DL Retransmission (Bytes)',\n",
    "    'TCP UL Retrans. Vol (Bytes)': 'Average TCP UL Retransmission (Bytes)',\n",
    "    'Avg RTT DL (ms)': 'Average RTT DL (ms)',\n",
    "    'Avg RTT UL (ms)': 'Average RTT UL (ms)',\n",
    "    'Avg Bearer TP DL (kbps)': 'Average Throughput DL (kbps)',\n",
    "    'Avg Bearer TP UL (kbps)': 'Average Throughput UL (kbps)',\n",
    "    'Handset Type': 'Most Common Handset Type'\n",
    "})\n"
   ]
  },
  {
   "cell_type": "code",
   "execution_count": 5,
   "metadata": {},
   "outputs": [
    {
     "name": "stdout",
     "output_type": "stream",
     "text": [
      "               Average TCP DL Retransmission (Bytes)  \\\n",
      "MSISDN/Number                                          \n",
      "3.360100e+10                                568730.0   \n",
      "3.360100e+10                                568730.0   \n",
      "3.360100e+10                                568730.0   \n",
      "3.360101e+10                                  1066.0   \n",
      "3.360101e+10                               4959180.0   \n",
      "\n",
      "               Average TCP UL Retransmission (Bytes)  Average RTT DL (ms)  \\\n",
      "MSISDN/Number                                                               \n",
      "3.360100e+10                                20949.50                 46.0   \n",
      "3.360100e+10                                20949.50                 30.0   \n",
      "3.360100e+10                                20949.50                 45.0   \n",
      "3.360101e+10                                20949.50                 69.0   \n",
      "3.360101e+10                                21075.75                 57.0   \n",
      "\n",
      "               Average RTT UL (ms)  Average Throughput DL (kbps)  \\\n",
      "MSISDN/Number                                                      \n",
      "3.360100e+10                   0.0                          37.0   \n",
      "3.360100e+10                   1.0                          48.0   \n",
      "3.360100e+10                   5.0                          48.0   \n",
      "3.360101e+10                  15.0                         204.0   \n",
      "3.360101e+10                   2.5                       20197.5   \n",
      "\n",
      "               Average Throughput UL (kbps)        Most Common Handset Type  \n",
      "MSISDN/Number                                                                \n",
      "3.360100e+10                           39.0  Huawei P20 Lite Huawei Nova 3E  \n",
      "3.360100e+10                           51.0          Apple Iphone 7 (A1778)  \n",
      "3.360100e+10                           49.0                Huawei B528S-23A  \n",
      "3.360101e+10                           44.0         Apple Iphone 5S (A1457)  \n",
      "3.360101e+10                           51.5         Apple Iphone Se (A1723)  \n"
     ]
    }
   ],
   "source": [
    "# Display the aggregated data\n",
    "print(aggregated_data.head())"
   ]
  },
  {
   "cell_type": "code",
   "execution_count": null,
   "metadata": {},
   "outputs": [],
   "source": []
  }
 ],
 "metadata": {
  "kernelspec": {
   "display_name": ".venv",
   "language": "python",
   "name": "python3"
  },
  "language_info": {
   "codemirror_mode": {
    "name": "ipython",
    "version": 3
   },
   "file_extension": ".py",
   "mimetype": "text/x-python",
   "name": "python",
   "nbconvert_exporter": "python",
   "pygments_lexer": "ipython3",
   "version": "3.11.4"
  }
 },
 "nbformat": 4,
 "nbformat_minor": 2
}
